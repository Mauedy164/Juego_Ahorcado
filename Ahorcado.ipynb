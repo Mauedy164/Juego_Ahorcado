{
  "cells": [
    {
      "cell_type": "markdown",
      "metadata": {
        "id": "view-in-github",
        "colab_type": "text"
      },
      "source": [
        "<a href=\"https://colab.research.google.com/github/Mauedy164/Juego_Ahorcado/blob/main/Ahorcado.ipynb\" target=\"_parent\"><img src=\"https://colab.research.google.com/assets/colab-badge.svg\" alt=\"Open In Colab\"/></a>"
      ]
    },
    {
      "cell_type": "markdown",
      "metadata": {
        "id": "oKWVLumKfWs7"
      },
      "source": [
        "Juego de ahorcado: Desarrolla el clásico juego en el que el programa selecciona una palabra al azar y el jugador tiene que adivinarla letra por letra antes de \"ahorcarse\"."
      ]
    },
    {
      "cell_type": "code",
      "execution_count": 413,
      "metadata": {
        "id": "8j_iF87rfBqb"
      },
      "outputs": [],
      "source": [
        "# palabras = [\"ordenador\", \"programacion\", \"inteligencia\", \"artificial\", \"aprendizaje\", \"automatico\", \"datos\", \"algoritmo\", \"redes\", \"neuronales\",\n",
        "#             \"vision\", \"computacional\", \"procesamiento\", \"lenguaje\", \"natural\", \"robotica\", \"simulacion\", \"analisis\", \"estadistica\", \"matematicas\",\n",
        "#             \"fisica\", \"quimica\", \"biologia\", \"geografia\", \"historia\", \"literatura\", \"arte\", \"musica\", \"cine\", \"teatro\",\n",
        "#             \"deporte\", \"futbol\", \"baloncesto\", \"tenis\", \"natacion\", \"atletismo\", \"ciclismo\", \"montanismo\", \"senderismo\", \"viaje\",\n",
        "#             \"aventura\", \"exploracion\", \"descubrimiento\", \"innovacion\", \"creatividad\", \"imaginacion\", \"conocimiento\", \"sabiduria\", \"felicidad\", \"amistad\",\n",
        "#             \"familia\", \"amor\", \"paz\", \"esperanza\", \"sueno\", \"meta\", \"desafio\", \"esfuerzo\", \"perseverancia\", \"disciplina\",\n",
        "#             \"paciencia\", \"tolerancia\", \"respeto\", \"compasion\", \"generosidad\", \"humildad\", \"sinceridad\", \"honestidad\", \"justicia\", \"libertad\",\n",
        "#             \"igualdad\", \"fraternidad\", \"solidaridad\", \"responsabilidad\", \"compromiso\", \"cooperacion\", \"comunicacion\", \"dialogo\", \"escucha\", \"empatia\",\n",
        "#             \"confianza\", \"seguridad\", \"proteccion\", \"salud\", \"bienestar\", \"naturaleza\", \"medioambiente\", \"sostenibilidad\", \"energia\", \"renovable\",\n",
        "#             \"tecnologia\", \"internet\", \"digital\", \"virtual\", \"realidad\", \"aumentada\", \"virtual\", \"cibernetica\", \"seguridad\"]"
      ]
    },
    {
      "cell_type": "markdown",
      "metadata": {
        "id": "Zz1XQqLlkoL7"
      },
      "source": [
        "##**Selección de palabra**"
      ]
    },
    {
      "cell_type": "code",
      "execution_count": 414,
      "metadata": {
        "id": "At56jVFngtF8"
      },
      "outputs": [],
      "source": [
        "import random"
      ]
    },
    {
      "cell_type": "code",
      "execution_count": 415,
      "metadata": {
        "id": "H9eJ40OyhRQu"
      },
      "outputs": [],
      "source": [
        "mensaje_final = '***********************************************************\\nJuego terminado, gracias por jugar\\n***********************************************************\\n'"
      ]
    },
    {
      "cell_type": "markdown",
      "source": [
        "### Selección de palabra mediante AI"
      ],
      "metadata": {
        "id": "iwy7jk4IjHVu"
      }
    },
    {
      "cell_type": "markdown",
      "source": [
        "Instalación SDK"
      ],
      "metadata": {
        "id": "q7Zz7t2njRjm"
      }
    },
    {
      "cell_type": "code",
      "source": [
        "!pip install -q -U google-generativeai"
      ],
      "metadata": {
        "id": "pwjXJO8njWCj"
      },
      "execution_count": 416,
      "outputs": []
    },
    {
      "cell_type": "markdown",
      "source": [
        "Acceder a la API"
      ],
      "metadata": {
        "id": "rAhA1dzoluDy"
      }
    },
    {
      "cell_type": "code",
      "source": [
        "import google.generativeai as genai\n",
        "from google.colab import userdata\n",
        "\n",
        "GOOGLE_API_KEY = userdata.get('GOOGLE_API_KEY')\n",
        "genai.configure(api_key=GOOGLE_API_KEY)"
      ],
      "metadata": {
        "id": "5Dw0YJ0Xlwbn"
      },
      "execution_count": 417,
      "outputs": []
    },
    {
      "cell_type": "markdown",
      "source": [
        "Selección de modelo"
      ],
      "metadata": {
        "id": "qQKPzuuSmSxB"
      }
    },
    {
      "cell_type": "code",
      "source": [
        "model = genai.GenerativeModel('gemini-2.5-flash-lite')"
      ],
      "metadata": {
        "id": "IutinPAdmSYa"
      },
      "execution_count": 418,
      "outputs": []
    },
    {
      "cell_type": "code",
      "source": [
        "def genera_palabra():\n",
        "  response = model.generate_content(f'Dame una lista de python de 20 palabras relacionadas al tema de futbol, sólo pueden ser una palabra, no pueden ser palabras compuestas, sólo quiero que me digas la lista en corcehtes, no quiero que me des más texto')\n",
        "  print(response.text)\n",
        "  palabras= response.text\n",
        "  return palabras"
      ],
      "metadata": {
        "id": "xX7DokxIltl0"
      },
      "execution_count": 419,
      "outputs": []
    },
    {
      "cell_type": "code",
      "execution_count": 420,
      "metadata": {
        "id": "DzhdDq-lfs1_"
      },
      "outputs": [],
      "source": [
        "def seleccion_palabra(respuesta):\n",
        "  if respuesta == 1:\n",
        "    print('Seleccionando palabra aleatoria')\n",
        "    palabras = genera_palabra()\n",
        "    palabra_secreta = palabras[random.randint(0,len(palabras))]\n",
        "    vidas = 6\n",
        "    longitud = len(palabra_secreta)\n",
        "    # Activar esta linea para pruebas\n",
        "    print(f'La palabra secreta es {palabra_secreta} y la longitud es de {longitud}')\n",
        "    return palabra_secreta, vidas\n",
        "  else:\n",
        "    palabra_secreta = print(mensaje_final)\n",
        "  return palabra_secreta"
      ]
    },
    {
      "cell_type": "markdown",
      "metadata": {
        "id": "5uUENhj1OipB"
      },
      "source": [
        "Generar una ayuda visual para indicarle al jugador qué cantidad de letras tiene la palabra secreta"
      ]
    },
    {
      "cell_type": "code",
      "execution_count": 421,
      "metadata": {
        "id": "D6YnOQZ_OlOG"
      },
      "outputs": [],
      "source": [
        "def ayuda_visual():\n",
        "  espacios = []\n",
        "  for espacio in range(len(letras)):\n",
        "    espacios.append('_')\n",
        "  print(espacios)\n",
        "  return espacios\n"
      ]
    },
    {
      "cell_type": "markdown",
      "metadata": {
        "id": "nW6yoVOwPkwY"
      },
      "source": [
        "Reiniciar el contador de intentos en 0"
      ]
    },
    {
      "cell_type": "code",
      "execution_count": 422,
      "metadata": {
        "id": "y9V_z5iGhsGh"
      },
      "outputs": [],
      "source": [
        "def intento():\n",
        "  letra_ingresada = str(input('Ingresa una letra: ')).lower().strip()\n",
        "\n",
        "  #Comprobar si la letra está contenida en la palabra secreta\n",
        "  indices = []\n",
        "  for indice, letra in enumerate(letras):\n",
        "    if letra == letra_ingresada:\n",
        "      indices.append(indice)\n",
        "  indices\n",
        "  return indices, letra_ingresada\n",
        "\n"
      ]
    },
    {
      "cell_type": "markdown",
      "metadata": {
        "id": "_ie2MoC2ScGT"
      },
      "source": [
        "Comprobar si la letra está contenida en la palabra secreta"
      ]
    },
    {
      "cell_type": "code",
      "source": [
        "  # intento = str(input('Ingresa una letra: ')).lower().strip()\n",
        "\n",
        "  # #Comprobar si la letra está contenida en la palabra secreta\n",
        "  # indices = []\n",
        "  # for indice, letra in enumerate(letras):\n",
        "  #   if letra == intento:\n",
        "  #     indices.append(indice)\n",
        "  # indices"
      ],
      "metadata": {
        "id": "_vAKD0sSxmzM"
      },
      "execution_count": 423,
      "outputs": []
    },
    {
      "cell_type": "markdown",
      "metadata": {
        "id": "QxhLhsMwWEtw"
      },
      "source": [
        "En caso de que sí este presente, cambiar el '_' por la letra ingresada"
      ]
    },
    {
      "cell_type": "code",
      "source": [
        "def letras_correctas(vidas):\n",
        "  if len(indices) > 0:\n",
        "    for i in range(len(indices)):\n",
        "      espacios[indices[i]] = letra_ingresada\n",
        "    print(f'Acertaste {len(indices)} letras\\n{espacios}')\n",
        "    return espacios, vidas\n",
        "  else:\n",
        "    vidas -= 1\n",
        "    print(f'¡Incorrecto! Te quedan {vidas} intentos')\n",
        "    return espacios, vidas"
      ],
      "metadata": {
        "id": "duliNkRVvocT"
      },
      "execution_count": 424,
      "outputs": []
    },
    {
      "cell_type": "code",
      "execution_count": 425,
      "metadata": {
        "colab": {
          "base_uri": "https://localhost:8080/",
          "height": 479
        },
        "id": "dDBx4HULet9Q",
        "outputId": "ea09a009-17bd-4344-f6e2-349a0ce127cc"
      },
      "outputs": [
        {
          "output_type": "stream",
          "name": "stdout",
          "text": [
            "Presiona 1 para iniciar un nuevo juego, presiona 0 si quieres terminar el juego: 1\n",
            "Seleccionando palabra aleatoria\n",
            "['gol', 'equipo', 'jugador', 'partido', 'entrenador', 'portero', 'defensa', 'medio', 'delantero', 'cancha', 'balon', 'arbitro', 'tarjeta', 'falta', 'penal', 'tiro', 'regate', 'pase', 'victoria', 'derrota']\n",
            "La palabra secreta es j y la longitud es de 1\n",
            "['j']\n",
            "['_']\n"
          ]
        },
        {
          "output_type": "error",
          "ename": "KeyboardInterrupt",
          "evalue": "Interrupted by user",
          "traceback": [
            "\u001b[0;31m---------------------------------------------------------------------------\u001b[0m",
            "\u001b[0;31mKeyboardInterrupt\u001b[0m                         Traceback (most recent call last)",
            "\u001b[0;32m/tmp/ipython-input-4138420152.py\u001b[0m in \u001b[0;36m<cell line: 0>\u001b[0;34m()\u001b[0m\n\u001b[1;32m     11\u001b[0m   \u001b[0mprint\u001b[0m\u001b[0;34m(\u001b[0m\u001b[0mletras\u001b[0m\u001b[0;34m)\u001b[0m\u001b[0;34m\u001b[0m\u001b[0;34m\u001b[0m\u001b[0m\n\u001b[1;32m     12\u001b[0m   \u001b[0mespacios\u001b[0m \u001b[0;34m=\u001b[0m \u001b[0mayuda_visual\u001b[0m\u001b[0;34m(\u001b[0m\u001b[0;34m)\u001b[0m\u001b[0;34m\u001b[0m\u001b[0;34m\u001b[0m\u001b[0m\n\u001b[0;32m---> 13\u001b[0;31m   \u001b[0mindices\u001b[0m\u001b[0;34m,\u001b[0m \u001b[0mletra_ingresada\u001b[0m \u001b[0;34m=\u001b[0m \u001b[0mintento\u001b[0m\u001b[0;34m(\u001b[0m\u001b[0;34m)\u001b[0m\u001b[0;34m\u001b[0m\u001b[0;34m\u001b[0m\u001b[0m\n\u001b[0m\u001b[1;32m     14\u001b[0m   \u001b[0mespacios\u001b[0m\u001b[0;34m,\u001b[0m \u001b[0mvidas\u001b[0m \u001b[0;34m=\u001b[0m \u001b[0mletras_correctas\u001b[0m\u001b[0;34m(\u001b[0m\u001b[0mvidas\u001b[0m\u001b[0;34m)\u001b[0m\u001b[0;34m\u001b[0m\u001b[0;34m\u001b[0m\u001b[0m\n\u001b[1;32m     15\u001b[0m \u001b[0;34m\u001b[0m\u001b[0m\n",
            "\u001b[0;32m/tmp/ipython-input-1809174322.py\u001b[0m in \u001b[0;36mintento\u001b[0;34m()\u001b[0m\n\u001b[1;32m      1\u001b[0m \u001b[0;32mdef\u001b[0m \u001b[0mintento\u001b[0m\u001b[0;34m(\u001b[0m\u001b[0;34m)\u001b[0m\u001b[0;34m:\u001b[0m\u001b[0;34m\u001b[0m\u001b[0;34m\u001b[0m\u001b[0m\n\u001b[0;32m----> 2\u001b[0;31m   \u001b[0mletra_ingresada\u001b[0m \u001b[0;34m=\u001b[0m \u001b[0mstr\u001b[0m\u001b[0;34m(\u001b[0m\u001b[0minput\u001b[0m\u001b[0;34m(\u001b[0m\u001b[0;34m'Ingresa una letra: '\u001b[0m\u001b[0;34m)\u001b[0m\u001b[0;34m)\u001b[0m\u001b[0;34m.\u001b[0m\u001b[0mlower\u001b[0m\u001b[0;34m(\u001b[0m\u001b[0;34m)\u001b[0m\u001b[0;34m.\u001b[0m\u001b[0mstrip\u001b[0m\u001b[0;34m(\u001b[0m\u001b[0;34m)\u001b[0m\u001b[0;34m\u001b[0m\u001b[0;34m\u001b[0m\u001b[0m\n\u001b[0m\u001b[1;32m      3\u001b[0m \u001b[0;34m\u001b[0m\u001b[0m\n\u001b[1;32m      4\u001b[0m   \u001b[0;31m#Comprobar si la letra está contenida en la palabra secreta\u001b[0m\u001b[0;34m\u001b[0m\u001b[0;34m\u001b[0m\u001b[0m\n\u001b[1;32m      5\u001b[0m   \u001b[0mindices\u001b[0m \u001b[0;34m=\u001b[0m \u001b[0;34m[\u001b[0m\u001b[0;34m]\u001b[0m\u001b[0;34m\u001b[0m\u001b[0;34m\u001b[0m\u001b[0m\n",
            "\u001b[0;32m/usr/local/lib/python3.12/dist-packages/ipykernel/kernelbase.py\u001b[0m in \u001b[0;36mraw_input\u001b[0;34m(self, prompt)\u001b[0m\n\u001b[1;32m   1175\u001b[0m                 \u001b[0;34m\"raw_input was called, but this frontend does not support input requests.\"\u001b[0m\u001b[0;34m\u001b[0m\u001b[0;34m\u001b[0m\u001b[0m\n\u001b[1;32m   1176\u001b[0m             )\n\u001b[0;32m-> 1177\u001b[0;31m         return self._input_request(\n\u001b[0m\u001b[1;32m   1178\u001b[0m             \u001b[0mstr\u001b[0m\u001b[0;34m(\u001b[0m\u001b[0mprompt\u001b[0m\u001b[0;34m)\u001b[0m\u001b[0;34m,\u001b[0m\u001b[0;34m\u001b[0m\u001b[0;34m\u001b[0m\u001b[0m\n\u001b[1;32m   1179\u001b[0m             \u001b[0mself\u001b[0m\u001b[0;34m.\u001b[0m\u001b[0m_parent_ident\u001b[0m\u001b[0;34m[\u001b[0m\u001b[0;34m\"shell\"\u001b[0m\u001b[0;34m]\u001b[0m\u001b[0;34m,\u001b[0m\u001b[0;34m\u001b[0m\u001b[0;34m\u001b[0m\u001b[0m\n",
            "\u001b[0;32m/usr/local/lib/python3.12/dist-packages/ipykernel/kernelbase.py\u001b[0m in \u001b[0;36m_input_request\u001b[0;34m(self, prompt, ident, parent, password)\u001b[0m\n\u001b[1;32m   1217\u001b[0m             \u001b[0;32mexcept\u001b[0m \u001b[0mKeyboardInterrupt\u001b[0m\u001b[0;34m:\u001b[0m\u001b[0;34m\u001b[0m\u001b[0;34m\u001b[0m\u001b[0m\n\u001b[1;32m   1218\u001b[0m                 \u001b[0;31m# re-raise KeyboardInterrupt, to truncate traceback\u001b[0m\u001b[0;34m\u001b[0m\u001b[0;34m\u001b[0m\u001b[0m\n\u001b[0;32m-> 1219\u001b[0;31m                 \u001b[0;32mraise\u001b[0m \u001b[0mKeyboardInterrupt\u001b[0m\u001b[0;34m(\u001b[0m\u001b[0;34m\"Interrupted by user\"\u001b[0m\u001b[0;34m)\u001b[0m \u001b[0;32mfrom\u001b[0m \u001b[0;32mNone\u001b[0m\u001b[0;34m\u001b[0m\u001b[0;34m\u001b[0m\u001b[0m\n\u001b[0m\u001b[1;32m   1220\u001b[0m             \u001b[0;32mexcept\u001b[0m \u001b[0mException\u001b[0m\u001b[0;34m:\u001b[0m\u001b[0;34m\u001b[0m\u001b[0;34m\u001b[0m\u001b[0m\n\u001b[1;32m   1221\u001b[0m                 \u001b[0mself\u001b[0m\u001b[0;34m.\u001b[0m\u001b[0mlog\u001b[0m\u001b[0;34m.\u001b[0m\u001b[0mwarning\u001b[0m\u001b[0;34m(\u001b[0m\u001b[0;34m\"Invalid Message:\"\u001b[0m\u001b[0;34m,\u001b[0m \u001b[0mexc_info\u001b[0m\u001b[0;34m=\u001b[0m\u001b[0;32mTrue\u001b[0m\u001b[0;34m)\u001b[0m\u001b[0;34m\u001b[0m\u001b[0;34m\u001b[0m\u001b[0m\n",
            "\u001b[0;31mKeyboardInterrupt\u001b[0m: Interrupted by user"
          ]
        }
      ],
      "source": [
        "while True:\n",
        "  try:\n",
        "    respuesta = int(input('Presiona 1 para iniciar un nuevo juego, presiona 0 si quieres terminar el juego: '))\n",
        "    break\n",
        "  except ValueError:\n",
        "    print('Sólo se admiten valores numéricos')\n",
        "\n",
        "if respuesta==1:\n",
        "  palabra_secreta, vidas = seleccion_palabra(respuesta)\n",
        "  letras = list(palabra_secreta)\n",
        "  print(letras)\n",
        "  espacios = ayuda_visual()\n",
        "  indices, letra_ingresada = intento()\n",
        "  espacios, vidas = letras_correctas(vidas)\n",
        "\n",
        "\n",
        "  while espacios.count('_') > 0:\n",
        "    indices, letra_ingresada = intento()\n",
        "    # intento = str(input('Ingresa la primer letra: ')).lower().strip()\n",
        "    # indices = []\n",
        "    # for indice, letra in enumerate(letras):\n",
        "    #   if letra == intento:\n",
        "    #     indices.append(indice)\n",
        "    # indices\n",
        "    espacios, vidas = letras_correctas(vidas)\n",
        "    # if len(indices) > 0:\n",
        "    #   for i in range(len(indices)):\n",
        "    #     espacios[indices[i]] = letra_ingresada\n",
        "    #   print(f'Acertaste {len(indices)} letras\\n{espacios}')\n",
        "    # else:\n",
        "    #   vidas -= 1\n",
        "    #   print(f'¡Incorrecto! Te quedan {vidas} intentos')\n",
        "    if vidas <=0:\n",
        "      print(f'Has perdido, la palabra secreta era {palabra_secreta}')\n",
        "      break\n",
        "    if espacios==list(palabra_secreta):\n",
        "      print(f'***********************************************************\\n¡Felicidades, has ganado! \\nLa palabra secreta es {palabra_secreta} \\n***********************************************************')\n",
        "  respuesta = int(input('Presiona 1 para iniciar un nuevo juego, presiona 0 si quieres terminar el juego: '))\n",
        "  palabra_secreta = seleccion_palabra(respuesta)\n",
        "else:\n",
        "  print(mensaje_final)"
      ]
    },
    {
      "cell_type": "code",
      "source": [],
      "metadata": {
        "id": "DMNhFWBXd2MD"
      },
      "execution_count": null,
      "outputs": []
    }
  ],
  "metadata": {
    "colab": {
      "provenance": [],
      "authorship_tag": "ABX9TyPdIMCyOqmi/sy1+ORPwMUg",
      "include_colab_link": true
    },
    "kernelspec": {
      "display_name": "Python 3",
      "name": "python3"
    },
    "language_info": {
      "name": "python"
    }
  },
  "nbformat": 4,
  "nbformat_minor": 0
}