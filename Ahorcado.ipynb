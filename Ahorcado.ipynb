{
  "cells": [
    {
      "cell_type": "markdown",
      "metadata": {
        "id": "view-in-github",
        "colab_type": "text"
      },
      "source": [
        "<a href=\"https://colab.research.google.com/github/Mauedy164/Juego_Ahorcado/blob/main/Ahorcado.ipynb\" target=\"_parent\"><img src=\"https://colab.research.google.com/assets/colab-badge.svg\" alt=\"Open In Colab\"/></a>"
      ]
    },
    {
      "cell_type": "markdown",
      "metadata": {
        "id": "oKWVLumKfWs7"
      },
      "source": [
        "Juego de ahorcado: Desarrolla el clásico juego en el que el programa selecciona una palabra al azar y el jugador tiene que adivinarla letra por letra antes de \"ahorcarse\"."
      ]
    },
    {
      "cell_type": "code",
      "execution_count": 370,
      "metadata": {
        "id": "8j_iF87rfBqb"
      },
      "outputs": [],
      "source": [
        "palabras = [\"ordenador\", \"programacion\", \"inteligencia\", \"artificial\", \"aprendizaje\", \"automatico\", \"datos\", \"algoritmo\", \"redes\", \"neuronales\",\n",
        "            \"vision\", \"computacional\", \"procesamiento\", \"lenguaje\", \"natural\", \"robotica\", \"simulacion\", \"analisis\", \"estadistica\", \"matematicas\",\n",
        "            \"fisica\", \"quimica\", \"biologia\", \"geografia\", \"historia\", \"literatura\", \"arte\", \"musica\", \"cine\", \"teatro\",\n",
        "            \"deporte\", \"futbol\", \"baloncesto\", \"tenis\", \"natacion\", \"atletismo\", \"ciclismo\", \"montanismo\", \"senderismo\", \"viaje\",\n",
        "            \"aventura\", \"exploracion\", \"descubrimiento\", \"innovacion\", \"creatividad\", \"imaginacion\", \"conocimiento\", \"sabiduria\", \"felicidad\", \"amistad\",\n",
        "            \"familia\", \"amor\", \"paz\", \"esperanza\", \"sueno\", \"meta\", \"desafio\", \"esfuerzo\", \"perseverancia\", \"disciplina\",\n",
        "            \"paciencia\", \"tolerancia\", \"respeto\", \"compasion\", \"generosidad\", \"humildad\", \"sinceridad\", \"honestidad\", \"justicia\", \"libertad\",\n",
        "            \"igualdad\", \"fraternidad\", \"solidaridad\", \"responsabilidad\", \"compromiso\", \"cooperacion\", \"comunicacion\", \"dialogo\", \"escucha\", \"empatia\",\n",
        "            \"confianza\", \"seguridad\", \"proteccion\", \"salud\", \"bienestar\", \"naturaleza\", \"medioambiente\", \"sostenibilidad\", \"energia\", \"renovable\",\n",
        "            \"tecnologia\", \"internet\", \"digital\", \"virtual\", \"realidad\", \"aumentada\", \"virtual\", \"cibernetica\", \"seguridad\"]"
      ]
    },
    {
      "cell_type": "markdown",
      "metadata": {
        "id": "Zz1XQqLlkoL7"
      },
      "source": [
        "##**Selección de palabra**"
      ]
    },
    {
      "cell_type": "code",
      "execution_count": 371,
      "metadata": {
        "id": "At56jVFngtF8"
      },
      "outputs": [],
      "source": [
        "import random"
      ]
    },
    {
      "cell_type": "code",
      "execution_count": 372,
      "metadata": {
        "id": "H9eJ40OyhRQu"
      },
      "outputs": [],
      "source": [
        "mensaje_final = '***********************************************************\\nJuego terminado, gracias por jugar\\n***********************************************************\\n'"
      ]
    },
    {
      "cell_type": "code",
      "execution_count": 373,
      "metadata": {
        "id": "DzhdDq-lfs1_"
      },
      "outputs": [],
      "source": [
        "def seleccion_palabra(respuesta):\n",
        "  if respuesta == 1:\n",
        "    print('Seleccionando palabra aleatoria')\n",
        "    palabra_secreta = palabras[random.randint(0,len(palabras))]\n",
        "    vidas = 6\n",
        "    longitud = len(palabra_secreta)\n",
        "    # Activar esta linea para pruebas\n",
        "    # print(f'La palabra secreta es {palabra_secreta} y la longitud es de {longitud}')\n",
        "    return palabra_secreta, vidas\n",
        "  else:\n",
        "    palabra_secreta = print(mensaje_final)\n",
        "  return palabra_secreta"
      ]
    },
    {
      "cell_type": "markdown",
      "metadata": {
        "id": "5uUENhj1OipB"
      },
      "source": [
        "Generar una ayuda visual para indicarle al jugador qué cantidad de letras tiene la palabra secreta"
      ]
    },
    {
      "cell_type": "code",
      "execution_count": 374,
      "metadata": {
        "id": "D6YnOQZ_OlOG"
      },
      "outputs": [],
      "source": [
        "def ayuda_visual():\n",
        "  espacios = []\n",
        "  for espacio in range(len(letras)):\n",
        "    espacios.append('_')\n",
        "  print(espacios)\n",
        "  return espacios\n"
      ]
    },
    {
      "cell_type": "markdown",
      "metadata": {
        "id": "nW6yoVOwPkwY"
      },
      "source": [
        "Reiniciar el contador de intentos en 0"
      ]
    },
    {
      "cell_type": "code",
      "execution_count": 375,
      "metadata": {
        "id": "y9V_z5iGhsGh"
      },
      "outputs": [],
      "source": [
        "def intento():\n",
        "  letra_ingresada = str(input('Ingresa una letra: ')).lower().strip()\n",
        "\n",
        "  #Comprobar si la letra está contenida en la palabra secreta\n",
        "  indices = []\n",
        "  for indice, letra in enumerate(letras):\n",
        "    if letra == letra_ingresada:\n",
        "      indices.append(indice)\n",
        "  indices\n",
        "  return indices, letra_ingresada\n",
        "\n"
      ]
    },
    {
      "cell_type": "markdown",
      "metadata": {
        "id": "_ie2MoC2ScGT"
      },
      "source": [
        "Comprobar si la letra está contenida en la palabra secreta"
      ]
    },
    {
      "cell_type": "code",
      "source": [
        "  # intento = str(input('Ingresa una letra: ')).lower().strip()\n",
        "\n",
        "  # #Comprobar si la letra está contenida en la palabra secreta\n",
        "  # indices = []\n",
        "  # for indice, letra in enumerate(letras):\n",
        "  #   if letra == intento:\n",
        "  #     indices.append(indice)\n",
        "  # indices"
      ],
      "metadata": {
        "id": "_vAKD0sSxmzM"
      },
      "execution_count": 376,
      "outputs": []
    },
    {
      "cell_type": "markdown",
      "metadata": {
        "id": "QxhLhsMwWEtw"
      },
      "source": [
        "En caso de que sí este presente, cambiar el '_' por la letra ingresada"
      ]
    },
    {
      "cell_type": "code",
      "source": [
        "def letras_correctas(vidas):\n",
        "  if len(indices) > 0:\n",
        "    for i in range(len(indices)):\n",
        "      espacios[indices[i]] = letra_ingresada\n",
        "    print(f'Acertaste {len(indices)} letras\\n{espacios}')\n",
        "    return espacios, vidas\n",
        "  else:\n",
        "    vidas -= 1\n",
        "    print(f'¡Incorrecto! Te quedan {vidas} intentos')\n",
        "    return espacios, vidas"
      ],
      "metadata": {
        "id": "duliNkRVvocT"
      },
      "execution_count": 377,
      "outputs": []
    },
    {
      "cell_type": "code",
      "execution_count": 378,
      "metadata": {
        "id": "bQCoozjXWIUJ"
      },
      "outputs": [],
      "source": [
        "# if len(indices) > 0:\n",
        "#   for i in range(len(indices)):\n",
        "#     espacios[indices[i]] = intento\n",
        "#   print(f'Acertaste {len(indices)} letras\\n{espacios}')\n",
        "# else:\n",
        "#   vidas -= 1\n",
        "#   print(f'¡Incorrecto! Te quedan {vidas} intentos')"
      ]
    },
    {
      "cell_type": "code",
      "execution_count": 379,
      "metadata": {
        "id": "JQ7DGv4SUxOL"
      },
      "outputs": [],
      "source": [
        "# espacios.count('_')"
      ]
    },
    {
      "cell_type": "code",
      "execution_count": 380,
      "metadata": {
        "id": "7NdX0xoJYeRF"
      },
      "outputs": [],
      "source": [
        "# respuesta = int(input('Presiona 1 para iniciar un nuevo juego, presiona 0 si quieres terminar el juego: '))\n",
        "# if respuesta==1:\n",
        "#   palabra_secreta, vidas = seleccion_palabra(respuesta)\n",
        "#   letras = list(palabra_secreta)\n",
        "#   print(letras)\n",
        "#   espacios = ayuda_visual()\n",
        "#   indices, letra_ingresada = intento()\n",
        "#   espacios, vidas = letras_correctas(vidas)\n",
        "\n",
        "\n",
        "#   while espacios.count('_') > 0:\n",
        "#     indices, letra_ingresada = intento()\n",
        "#     # intento = str(input('Ingresa la primer letra: ')).lower().strip()\n",
        "#     # indices = []\n",
        "#     # for indice, letra in enumerate(letras):\n",
        "#     #   if letra == intento:\n",
        "#     #     indices.append(indice)\n",
        "#     # indices\n",
        "#     espacios, vidas = letras_correctas(vidas)\n",
        "#     # if len(indices) > 0:\n",
        "#     #   for i in range(len(indices)):\n",
        "#     #     espacios[indices[i]] = letra_ingresada\n",
        "#     #   print(f'Acertaste {len(indices)} letras\\n{espacios}')\n",
        "#     # else:\n",
        "#     #   vidas -= 1\n",
        "#     #   print(f'¡Incorrecto! Te quedan {vidas} intentos')\n",
        "#     if vidas <=0:\n",
        "#       print(f'Has perdido, la palabra secreta era {palabra_secreta}')\n",
        "#       break\n",
        "#     if espacios==list(palabra_secreta):\n",
        "#       print(f'***********************************************************\\n¡Felicidades, has ganado! \\nLa palabra secreta es {palabra_secreta} \\n***********************************************************')\n",
        "#   respuesta = int(input('Presiona 1 para iniciar un nuevo juego, presiona 0 si quieres terminar el juego: '))\n",
        "#   palabra_secreta = seleccion_palabra(respuesta)\n",
        "# else:\n",
        "#   print(mensaje_final)"
      ]
    },
    {
      "cell_type": "code",
      "source": [],
      "metadata": {
        "id": "rAePGYy6c-_f"
      },
      "execution_count": 380,
      "outputs": []
    },
    {
      "cell_type": "code",
      "execution_count": 381,
      "metadata": {
        "id": "ITRUWYGwdpez"
      },
      "outputs": [],
      "source": [
        "\n",
        "# try:\n",
        "#   respuesta = int(input('Presiona 1 para iniciar un nuevo juego, presiona 0 si quieres terminar el juego: '))\n",
        "#   if respuesta==1:\n",
        "#     palabra_secreta, vidas = seleccion_palabra(respuesta)\n",
        "#     letras = list(palabra_secreta)\n",
        "#     print(letras)\n",
        "#     espacios = ayuda_visual()\n",
        "#     indices, letra_ingresada = intento()\n",
        "#     espacios, vidas = letras_correctas(vidas)\n",
        "\n",
        "\n",
        "#     while espacios.count('_') > 0:\n",
        "#       indices, letra_ingresada = intento()\n",
        "#       # intento = str(input('Ingresa la primer letra: ')).lower().strip()\n",
        "#       # indices = []\n",
        "#       # for indice, letra in enumerate(letras):\n",
        "#       #   if letra == intento:\n",
        "#       #     indices.append(indice)\n",
        "#       # indices\n",
        "#       espacios, vidas = letras_correctas(vidas)\n",
        "#       # if len(indices) > 0:\n",
        "#       #   for i in range(len(indices)):\n",
        "#       #     espacios[indices[i]] = letra_ingresada\n",
        "#       #   print(f'Acertaste {len(indices)} letras\\n{espacios}')\n",
        "#       # else:\n",
        "#       #   vidas -= 1\n",
        "#       #   print(f'¡Incorrecto! Te quedan {vidas} intentos')\n",
        "#       if vidas <=0:\n",
        "#         print(f'Has perdido, la palabra secreta era {palabra_secreta}')\n",
        "#         break\n",
        "#       if espacios==list(palabra_secreta):\n",
        "#         print(f'***********************************************************\\n¡Felicidades, has ganado! \\nLa palabra secreta es {palabra_secreta} \\n***********************************************************')\n",
        "#     respuesta = int(input('Presiona 1 para iniciar un nuevo juego, presiona 0 si quieres terminar el juego: '))\n",
        "#     palabra_secreta = seleccion_palabra(respuesta)\n",
        "#   else:\n",
        "#     print(mensaje_final)\n",
        "# except ValueError:\n",
        "#   print('Sólo se admiten valores numéricos')\n"
      ]
    },
    {
      "cell_type": "code",
      "execution_count": null,
      "metadata": {
        "colab": {
          "base_uri": "https://localhost:8080/"
        },
        "id": "dDBx4HULet9Q",
        "outputId": "78920cde-19c9-474d-b9b3-71da8bd5b1d3"
      },
      "outputs": [
        {
          "output_type": "stream",
          "name": "stdout",
          "text": [
            "Presiona 1 para iniciar un nuevo juego, presiona 0 si quieres terminar el juego: 1\n",
            "Seleccionando palabra aleatoria\n",
            "La palabra secreta es teatro y la longitud es de 6\n",
            "['t', 'e', 'a', 't', 'r', 'o']\n",
            "['_', '_', '_', '_', '_', '_']\n",
            "Ingresa una letra: 5\n",
            "¡Incorrecto! Te quedan 5 intentos\n"
          ]
        }
      ],
      "source": [
        "\n",
        "while True:\n",
        "  try:\n",
        "    respuesta = int(input('Presiona 1 para iniciar un nuevo juego, presiona 0 si quieres terminar el juego: '))\n",
        "    break\n",
        "  except ValueError:\n",
        "    print('Sólo se admiten valores numéricos')\n",
        "\n",
        "if respuesta==1:\n",
        "  palabra_secreta, vidas = seleccion_palabra(respuesta)\n",
        "  letras = list(palabra_secreta)\n",
        "  print(letras)\n",
        "  espacios = ayuda_visual()\n",
        "  indices, letra_ingresada = intento()\n",
        "  espacios, vidas = letras_correctas(vidas)\n",
        "\n",
        "\n",
        "  while espacios.count('_') > 0:\n",
        "    indices, letra_ingresada = intento()\n",
        "    # intento = str(input('Ingresa la primer letra: ')).lower().strip()\n",
        "    # indices = []\n",
        "    # for indice, letra in enumerate(letras):\n",
        "    #   if letra == intento:\n",
        "    #     indices.append(indice)\n",
        "    # indices\n",
        "    espacios, vidas = letras_correctas(vidas)\n",
        "    # if len(indices) > 0:\n",
        "    #   for i in range(len(indices)):\n",
        "    #     espacios[indices[i]] = letra_ingresada\n",
        "    #   print(f'Acertaste {len(indices)} letras\\n{espacios}')\n",
        "    # else:\n",
        "    #   vidas -= 1\n",
        "    #   print(f'¡Incorrecto! Te quedan {vidas} intentos')\n",
        "    if vidas <=0:\n",
        "      print(f'Has perdido, la palabra secreta era {palabra_secreta}')\n",
        "      break\n",
        "    if espacios==list(palabra_secreta):\n",
        "      print(f'***********************************************************\\n¡Felicidades, has ganado! \\nLa palabra secreta es {palabra_secreta} \\n***********************************************************')\n",
        "  respuesta = int(input('Presiona 1 para iniciar un nuevo juego, presiona 0 si quieres terminar el juego: '))\n",
        "  palabra_secreta = seleccion_palabra(respuesta)\n",
        "else:\n",
        "  print(mensaje_final)"
      ]
    },
    {
      "cell_type": "code",
      "source": [],
      "metadata": {
        "id": "DMNhFWBXd2MD"
      },
      "execution_count": null,
      "outputs": []
    }
  ],
  "metadata": {
    "colab": {
      "provenance": [],
      "authorship_tag": "ABX9TyNoryPpLpLBbtSGQ6PGU0Ug",
      "include_colab_link": true
    },
    "kernelspec": {
      "display_name": "Python 3",
      "name": "python3"
    },
    "language_info": {
      "name": "python"
    }
  },
  "nbformat": 4,
  "nbformat_minor": 0
}