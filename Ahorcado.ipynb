{
  "cells": [
    {
      "cell_type": "markdown",
      "metadata": {
        "id": "view-in-github",
        "colab_type": "text"
      },
      "source": [
        "<a href=\"https://colab.research.google.com/github/Mauedy164/Juego_Ahorcado/blob/main/Ahorcado.ipynb\" target=\"_parent\"><img src=\"https://colab.research.google.com/assets/colab-badge.svg\" alt=\"Open In Colab\"/></a>"
      ]
    },
    {
      "cell_type": "markdown",
      "metadata": {
        "id": "oKWVLumKfWs7"
      },
      "source": [
        "Juego de ahorcado: Desarrolla el clásico juego en el que el programa selecciona una palabra al azar y el jugador tiene que adivinarla letra por letra antes de \"ahorcarse\"."
      ]
    },
    {
      "cell_type": "code",
      "execution_count": 1,
      "metadata": {
        "id": "8j_iF87rfBqb"
      },
      "outputs": [],
      "source": [
        "palabras = [\"ordenador\", \"programacion\", \"inteligencia\", \"artificial\", \"aprendizaje\", \"automatico\", \"datos\", \"algoritmo\", \"redes\", \"neuronales\",\n",
        "            \"vision\", \"computacional\", \"procesamiento\", \"lenguaje\", \"natural\", \"robotica\", \"simulacion\", \"analisis\", \"estadistica\", \"matematicas\",\n",
        "            \"fisica\", \"quimica\", \"biologia\", \"geografia\", \"historia\", \"literatura\", \"arte\", \"musica\", \"cine\", \"teatro\",\n",
        "            \"deporte\", \"futbol\", \"baloncesto\", \"tenis\", \"natacion\", \"atletismo\", \"ciclismo\", \"montanismo\", \"senderismo\", \"viaje\",\n",
        "            \"aventura\", \"exploracion\", \"descubrimiento\", \"innovacion\", \"creatividad\", \"imaginacion\", \"conocimiento\", \"sabiduria\", \"felicidad\", \"amistad\",\n",
        "            \"familia\", \"amor\", \"paz\", \"esperanza\", \"sueno\", \"meta\", \"desafio\", \"esfuerzo\", \"perseverancia\", \"disciplina\",\n",
        "            \"paciencia\", \"tolerancia\", \"respeto\", \"compasion\", \"generosidad\", \"humildad\", \"sinceridad\", \"honestidad\", \"justicia\", \"libertad\",\n",
        "            \"igualdad\", \"fraternidad\", \"solidaridad\", \"responsabilidad\", \"compromiso\", \"cooperacion\", \"comunicacion\", \"dialogo\", \"escucha\", \"empatia\",\n",
        "            \"confianza\", \"seguridad\", \"proteccion\", \"salud\", \"bienestar\", \"naturaleza\", \"medioambiente\", \"sostenibilidad\", \"energia\", \"renovable\",\n",
        "            \"tecnologia\", \"internet\", \"digital\", \"virtual\", \"realidad\", \"aumentada\", \"virtual\", \"cibernetica\", \"seguridad\"]"
      ]
    },
    {
      "cell_type": "markdown",
      "metadata": {
        "id": "Zz1XQqLlkoL7"
      },
      "source": [
        "##**Selección de palabra**"
      ]
    },
    {
      "cell_type": "code",
      "execution_count": 2,
      "metadata": {
        "id": "At56jVFngtF8"
      },
      "outputs": [],
      "source": [
        "import random"
      ]
    },
    {
      "cell_type": "code",
      "execution_count": 3,
      "metadata": {
        "id": "H9eJ40OyhRQu"
      },
      "outputs": [],
      "source": [
        "mensaje_final = 'Juego terminado, gracias por jugar'"
      ]
    },
    {
      "cell_type": "code",
      "execution_count": 4,
      "metadata": {
        "colab": {
          "base_uri": "https://localhost:8080/"
        },
        "id": "DzhdDq-lfs1_",
        "outputId": "15390425-fd3c-4c33-b7dd-d41f2b45298e"
      },
      "outputs": [
        {
          "output_type": "stream",
          "name": "stdout",
          "text": [
            "Presiona 1 para iniciar un nuevo juego, presiona 0 si quieres terminar el juego: 1\n",
            "Seleccionando palabra aleatoria\n",
            "La palabra secreta es realidad y la longitud es de 8\n"
          ]
        }
      ],
      "source": [
        "respuesta = int(input('Presiona 1 para iniciar un nuevo juego, presiona 0 si quieres terminar el juego: '))\n",
        "\n",
        "def seleccion_palabra(respuesta):\n",
        "  if respuesta == 1:\n",
        "    print('Seleccionando palabra aleatoria')\n",
        "    palabra_secreta = palabras[random.randint(0,len(palabras))]\n",
        "    vidas = 6\n",
        "    longitud = len(palabra_secreta)\n",
        "    print(f'La palabra secreta es {palabra_secreta} y la longitud es de {longitud}')\n",
        "  else:\n",
        "    palabra_secreta = print(mensaje_final)\n",
        "  return palabra_secreta, vidas\n",
        "\n",
        "palabra_secreta, vidas = seleccion_palabra(respuesta)\n"
      ]
    },
    {
      "cell_type": "code",
      "execution_count": 5,
      "metadata": {
        "colab": {
          "base_uri": "https://localhost:8080/"
        },
        "id": "081EHvo1lp1P",
        "outputId": "a97e9bb8-3a04-45c6-d4ee-fe1f702b5513"
      },
      "outputs": [
        {
          "output_type": "stream",
          "name": "stdout",
          "text": [
            "['r', 'e', 'a', 'l', 'i', 'd', 'a', 'd']\n"
          ]
        }
      ],
      "source": [
        "letras = list(palabra_secreta)\n",
        "print(letras)"
      ]
    },
    {
      "cell_type": "markdown",
      "metadata": {
        "id": "5uUENhj1OipB"
      },
      "source": [
        "Generar una ayuda visual para indicarle al jugador qué cantidad de letras tiene la palabra secreta"
      ]
    },
    {
      "cell_type": "code",
      "execution_count": 6,
      "metadata": {
        "colab": {
          "base_uri": "https://localhost:8080/"
        },
        "id": "D6YnOQZ_OlOG",
        "outputId": "39f2c533-a25d-4b92-9083-b84b3656525d"
      },
      "outputs": [
        {
          "output_type": "stream",
          "name": "stdout",
          "text": [
            "['_', '_', '_', '_', '_', '_', '_', '_']\n"
          ]
        }
      ],
      "source": [
        "def ayuda_visual():\n",
        "  espacios = []\n",
        "  for espacio in range(len(letras)):\n",
        "    espacios.append('_')\n",
        "  print(espacios)\n",
        "  return espacios"
      ]
    },
    {
      "cell_type": "markdown",
      "metadata": {
        "id": "nW6yoVOwPkwY"
      },
      "source": [
        "Reiniciar el contador de intentos en 0"
      ]
    },
    {
      "cell_type": "code",
      "execution_count": 7,
      "metadata": {
        "colab": {
          "base_uri": "https://localhost:8080/"
        },
        "id": "y9V_z5iGhsGh",
        "outputId": "dd748f3d-1d6d-4cd1-fcd1-9cb3ef4043c4"
      },
      "outputs": [
        {
          "name": "stdout",
          "output_type": "stream",
          "text": [
            "Ingresa la primer letra: l\n"
          ]
        }
      ],
      "source": [
        "def intento():\n",
        "  intento = str(input('Ingresa una letra: ')).lower().strip()\n",
        "\n",
        "  #Comprobar si la letra está contenida en la palabra secreta\n",
        "  indices = []\n",
        "  for indice, letra in enumerate(letras):\n",
        "    if letra == intento:\n",
        "      indices.append(indice)\n",
        "  indices\n",
        "  return indices, intento"
      ]
    },
    {
      "cell_type": "code",
      "source": [],
      "metadata": {
        "id": "vfvEEqlXxlup"
      },
      "execution_count": null,
      "outputs": []
    },
    {
      "cell_type": "markdown",
      "metadata": {
        "id": "_ie2MoC2ScGT"
      },
      "source": [
        "Comprobar si la letra está contenida en la palabra secreta"
      ]
    },
    {
      "cell_type": "code",
      "source": [
        "  # intento = str(input('Ingresa una letra: ')).lower().strip()\n",
        "\n",
        "  # #Comprobar si la letra está contenida en la palabra secreta\n",
        "  # indices = []\n",
        "  # for indice, letra in enumerate(letras):\n",
        "  #   if letra == intento:\n",
        "  #     indices.append(indice)\n",
        "  # indices"
      ],
      "metadata": {
        "id": "_vAKD0sSxmzM"
      },
      "execution_count": null,
      "outputs": []
    },
    {
      "cell_type": "markdown",
      "metadata": {
        "id": "QxhLhsMwWEtw"
      },
      "source": [
        "En caso de que sí este presente, cambiar el '_' por la letra ingresada"
      ]
    },
    {
      "cell_type": "code",
      "source": [
        "def letras_correctas():\n",
        "  espacios = espacios\n",
        "  if len(indices) > 0:\n",
        "    for i in range(len(indices)):\n",
        "      espacios[indices[i]] = intento\n",
        "    print(f'Acertaste {len(indices)} letras\\n{espacios}')\n",
        "  else:\n",
        "    vidas -= 1\n",
        "    print(f'¡Incorrecto! Te quedan {vidas} intentos')\n",
        "    return espacios, vidas"
      ],
      "metadata": {
        "id": "duliNkRVvocT"
      },
      "execution_count": null,
      "outputs": []
    },
    {
      "cell_type": "code",
      "execution_count": 9,
      "metadata": {
        "colab": {
          "base_uri": "https://localhost:8080/"
        },
        "id": "bQCoozjXWIUJ",
        "outputId": "e46c6419-ef34-44e7-880c-b88dc9be0bfb"
      },
      "outputs": [
        {
          "output_type": "stream",
          "name": "stdout",
          "text": [
            "Acertaste 1 letras\n",
            "['_', '_', '_', 'l', '_', '_', '_', '_']\n"
          ]
        }
      ],
      "source": [
        "# if len(indices) > 0:\n",
        "#   for i in range(len(indices)):\n",
        "#     espacios[indices[i]] = intento\n",
        "#   print(f'Acertaste {len(indices)} letras\\n{espacios}')\n",
        "# else:\n",
        "#   vidas -= 1\n",
        "#   print(f'¡Incorrecto! Te quedan {vidas} intentos')"
      ]
    },
    {
      "cell_type": "code",
      "execution_count": 10,
      "metadata": {
        "colab": {
          "base_uri": "https://localhost:8080/"
        },
        "id": "JQ7DGv4SUxOL",
        "outputId": "890c2db8-9754-4d30-fff3-039db673b860"
      },
      "outputs": [
        {
          "output_type": "execute_result",
          "data": {
            "text/plain": [
              "7"
            ]
          },
          "metadata": {},
          "execution_count": 10
        }
      ],
      "source": [
        "# espacios.count('_')"
      ]
    },
    {
      "cell_type": "code",
      "execution_count": 11,
      "metadata": {
        "id": "7NdX0xoJYeRF",
        "outputId": "067b441e-ecc0-44c6-a0d8-68f90b02fd1d",
        "colab": {
          "base_uri": "https://localhost:8080/",
          "height": 391
        }
      },
      "outputs": [
        {
          "output_type": "stream",
          "name": "stdout",
          "text": [
            "Ingresa la primer letra: p\n",
            "¡Incorrecto! Te quedan 5 intentos\n"
          ]
        },
        {
          "output_type": "error",
          "ename": "KeyboardInterrupt",
          "evalue": "Interrupted by user",
          "traceback": [
            "\u001b[0;31m---------------------------------------------------------------------------\u001b[0m",
            "\u001b[0;31mKeyboardInterrupt\u001b[0m                         Traceback (most recent call last)",
            "\u001b[0;32m/tmp/ipython-input-1868772918.py\u001b[0m in \u001b[0;36m<cell line: 0>\u001b[0;34m()\u001b[0m\n\u001b[1;32m      1\u001b[0m \u001b[0;32mwhile\u001b[0m \u001b[0mespacios\u001b[0m\u001b[0;34m.\u001b[0m\u001b[0mcount\u001b[0m\u001b[0;34m(\u001b[0m\u001b[0;34m'_'\u001b[0m\u001b[0;34m)\u001b[0m \u001b[0;34m>\u001b[0m \u001b[0;36m0\u001b[0m\u001b[0;34m:\u001b[0m\u001b[0;34m\u001b[0m\u001b[0;34m\u001b[0m\u001b[0m\n\u001b[0;32m----> 2\u001b[0;31m   \u001b[0mintento\u001b[0m \u001b[0;34m=\u001b[0m \u001b[0mstr\u001b[0m\u001b[0;34m(\u001b[0m\u001b[0minput\u001b[0m\u001b[0;34m(\u001b[0m\u001b[0;34m'Ingresa la primer letra: '\u001b[0m\u001b[0;34m)\u001b[0m\u001b[0;34m)\u001b[0m\u001b[0;34m.\u001b[0m\u001b[0mlower\u001b[0m\u001b[0;34m(\u001b[0m\u001b[0;34m)\u001b[0m\u001b[0;34m.\u001b[0m\u001b[0mstrip\u001b[0m\u001b[0;34m(\u001b[0m\u001b[0;34m)\u001b[0m\u001b[0;34m\u001b[0m\u001b[0;34m\u001b[0m\u001b[0m\n\u001b[0m\u001b[1;32m      3\u001b[0m   \u001b[0mindices\u001b[0m \u001b[0;34m=\u001b[0m \u001b[0;34m[\u001b[0m\u001b[0;34m]\u001b[0m\u001b[0;34m\u001b[0m\u001b[0;34m\u001b[0m\u001b[0m\n\u001b[1;32m      4\u001b[0m   \u001b[0;32mfor\u001b[0m \u001b[0mindice\u001b[0m\u001b[0;34m,\u001b[0m \u001b[0mletra\u001b[0m \u001b[0;32min\u001b[0m \u001b[0menumerate\u001b[0m\u001b[0;34m(\u001b[0m\u001b[0mletras\u001b[0m\u001b[0;34m)\u001b[0m\u001b[0;34m:\u001b[0m\u001b[0;34m\u001b[0m\u001b[0;34m\u001b[0m\u001b[0m\n\u001b[1;32m      5\u001b[0m     \u001b[0;32mif\u001b[0m \u001b[0mletra\u001b[0m \u001b[0;34m==\u001b[0m \u001b[0mintento\u001b[0m\u001b[0;34m:\u001b[0m\u001b[0;34m\u001b[0m\u001b[0;34m\u001b[0m\u001b[0m\n",
            "\u001b[0;32m/usr/local/lib/python3.12/dist-packages/ipykernel/kernelbase.py\u001b[0m in \u001b[0;36mraw_input\u001b[0;34m(self, prompt)\u001b[0m\n\u001b[1;32m   1175\u001b[0m                 \u001b[0;34m\"raw_input was called, but this frontend does not support input requests.\"\u001b[0m\u001b[0;34m\u001b[0m\u001b[0;34m\u001b[0m\u001b[0m\n\u001b[1;32m   1176\u001b[0m             )\n\u001b[0;32m-> 1177\u001b[0;31m         return self._input_request(\n\u001b[0m\u001b[1;32m   1178\u001b[0m             \u001b[0mstr\u001b[0m\u001b[0;34m(\u001b[0m\u001b[0mprompt\u001b[0m\u001b[0;34m)\u001b[0m\u001b[0;34m,\u001b[0m\u001b[0;34m\u001b[0m\u001b[0;34m\u001b[0m\u001b[0m\n\u001b[1;32m   1179\u001b[0m             \u001b[0mself\u001b[0m\u001b[0;34m.\u001b[0m\u001b[0m_parent_ident\u001b[0m\u001b[0;34m[\u001b[0m\u001b[0;34m\"shell\"\u001b[0m\u001b[0;34m]\u001b[0m\u001b[0;34m,\u001b[0m\u001b[0;34m\u001b[0m\u001b[0;34m\u001b[0m\u001b[0m\n",
            "\u001b[0;32m/usr/local/lib/python3.12/dist-packages/ipykernel/kernelbase.py\u001b[0m in \u001b[0;36m_input_request\u001b[0;34m(self, prompt, ident, parent, password)\u001b[0m\n\u001b[1;32m   1217\u001b[0m             \u001b[0;32mexcept\u001b[0m \u001b[0mKeyboardInterrupt\u001b[0m\u001b[0;34m:\u001b[0m\u001b[0;34m\u001b[0m\u001b[0;34m\u001b[0m\u001b[0m\n\u001b[1;32m   1218\u001b[0m                 \u001b[0;31m# re-raise KeyboardInterrupt, to truncate traceback\u001b[0m\u001b[0;34m\u001b[0m\u001b[0;34m\u001b[0m\u001b[0m\n\u001b[0;32m-> 1219\u001b[0;31m                 \u001b[0;32mraise\u001b[0m \u001b[0mKeyboardInterrupt\u001b[0m\u001b[0;34m(\u001b[0m\u001b[0;34m\"Interrupted by user\"\u001b[0m\u001b[0;34m)\u001b[0m \u001b[0;32mfrom\u001b[0m \u001b[0;32mNone\u001b[0m\u001b[0;34m\u001b[0m\u001b[0;34m\u001b[0m\u001b[0m\n\u001b[0m\u001b[1;32m   1220\u001b[0m             \u001b[0;32mexcept\u001b[0m \u001b[0mException\u001b[0m\u001b[0;34m:\u001b[0m\u001b[0;34m\u001b[0m\u001b[0;34m\u001b[0m\u001b[0m\n\u001b[1;32m   1221\u001b[0m                 \u001b[0mself\u001b[0m\u001b[0;34m.\u001b[0m\u001b[0mlog\u001b[0m\u001b[0;34m.\u001b[0m\u001b[0mwarning\u001b[0m\u001b[0;34m(\u001b[0m\u001b[0;34m\"Invalid Message:\"\u001b[0m\u001b[0;34m,\u001b[0m \u001b[0mexc_info\u001b[0m\u001b[0;34m=\u001b[0m\u001b[0;32mTrue\u001b[0m\u001b[0;34m)\u001b[0m\u001b[0;34m\u001b[0m\u001b[0;34m\u001b[0m\u001b[0m\n",
            "\u001b[0;31mKeyboardInterrupt\u001b[0m: Interrupted by user"
          ]
        }
      ],
      "source": [
        "while espacios.count('_') > 0:\n",
        "  intento = str(input('Ingresa la primer letra: ')).lower().strip()\n",
        "  indices = []\n",
        "  for indice, letra in enumerate(letras):\n",
        "    if letra == intento:\n",
        "      indices.append(indice)\n",
        "  indices\n",
        "  if len(indices) > 0:\n",
        "    for i in range(len(indices)):\n",
        "      espacios[indices[i]] = intento\n",
        "    print(f'Acertaste {len(indices)} letras\\n{espacios}')\n",
        "  else:\n",
        "    vidas -= 1\n",
        "    print(f'¡Incorrecto! Te quedan {vidas} intentos')\n",
        "  if vidas <=0:\n",
        "    print(f'Has perdido, la palabra secreta era {palabra_secreta}')\n",
        "    break\n",
        "palabra_secreta = seleccion_palabra(respuesta)"
      ]
    }
  ],
  "metadata": {
    "colab": {
      "provenance": [],
      "authorship_tag": "ABX9TyPcWJU/QsMWRkqDna7CpAkT",
      "include_colab_link": true
    },
    "kernelspec": {
      "display_name": "Python 3",
      "name": "python3"
    },
    "language_info": {
      "name": "python"
    }
  },
  "nbformat": 4,
  "nbformat_minor": 0
}