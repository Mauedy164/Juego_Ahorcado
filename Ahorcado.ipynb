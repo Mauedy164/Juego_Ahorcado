{
  "nbformat": 4,
  "nbformat_minor": 0,
  "metadata": {
    "colab": {
      "provenance": [],
      "authorship_tag": "ABX9TyPBKF/UHv8X+xqFL3R+sJQx",
      "include_colab_link": true
    },
    "kernelspec": {
      "name": "python3",
      "display_name": "Python 3"
    },
    "language_info": {
      "name": "python"
    }
  },
  "cells": [
    {
      "cell_type": "markdown",
      "metadata": {
        "id": "view-in-github",
        "colab_type": "text"
      },
      "source": [
        "<a href=\"https://colab.research.google.com/github/Mauedy164/Juego_Ahorcado/blob/main/Ahorcado.ipynb\" target=\"_parent\"><img src=\"https://colab.research.google.com/assets/colab-badge.svg\" alt=\"Open In Colab\"/></a>"
      ]
    },
    {
      "cell_type": "markdown",
      "source": [
        "Juego de ahorcado: Desarrolla el clásico juego en el que el programa selecciona una palabra al azar y el jugador tiene que adivinarla letra por letra antes de \"ahorcarse\"."
      ],
      "metadata": {
        "id": "oKWVLumKfWs7"
      }
    },
    {
      "cell_type": "code",
      "execution_count": null,
      "metadata": {
        "id": "8j_iF87rfBqb"
      },
      "outputs": [],
      "source": [
        "palabras = [\"ordenador\", \"programacion\", \"inteligencia\", \"artificial\", \"aprendizaje\", \"automatico\", \"datos\", \"algoritmo\", \"redes\", \"neuronales\",\n",
        "            \"vision\", \"computacional\", \"procesamiento\", \"lenguaje\", \"natural\", \"robotica\", \"simulacion\", \"analisis\", \"estadistica\", \"matematicas\",\n",
        "            \"fisica\", \"quimica\", \"biologia\", \"geografia\", \"historia\", \"literatura\", \"arte\", \"musica\", \"cine\", \"teatro\",\n",
        "            \"deporte\", \"futbol\", \"baloncesto\", \"tenis\", \"natacion\", \"atletismo\", \"ciclismo\", \"montanismo\", \"senderismo\", \"viaje\",\n",
        "            \"aventura\", \"exploracion\", \"descubrimiento\", \"innovacion\", \"creatividad\", \"imaginacion\", \"conocimiento\", \"sabiduria\", \"felicidad\", \"amistad\",\n",
        "            \"familia\", \"amor\", \"paz\", \"esperanza\", \"sueno\", \"meta\", \"desafio\", \"esfuerzo\", \"perseverancia\", \"disciplina\",\n",
        "            \"paciencia\", \"tolerancia\", \"respeto\", \"compasion\", \"generosidad\", \"humildad\", \"sinceridad\", \"honestidad\", \"justicia\", \"libertad\",\n",
        "            \"igualdad\", \"fraternidad\", \"solidaridad\", \"responsabilidad\", \"compromiso\", \"cooperacion\", \"comunicacion\", \"dialogo\", \"escucha\", \"empatia\",\n",
        "            \"confianza\", \"seguridad\", \"proteccion\", \"salud\", \"bienestar\", \"naturaleza\", \"medioambiente\", \"sostenibilidad\", \"energia\", \"renovable\",\n",
        "            \"tecnologia\", \"internet\", \"digital\", \"virtual\", \"realidad\", \"aumentada\", \"virtual\", \"cibernetica\", \"seguridad\"]"
      ]
    },
    {
      "cell_type": "markdown",
      "source": [
        "##**Selección de palabra**"
      ],
      "metadata": {
        "id": "Zz1XQqLlkoL7"
      }
    },
    {
      "cell_type": "code",
      "source": [
        "import random"
      ],
      "metadata": {
        "id": "At56jVFngtF8"
      },
      "execution_count": null,
      "outputs": []
    },
    {
      "cell_type": "code",
      "source": [
        "respuesta = int(input('presiona 1 para iniciar un nuevo juego, presiona 2 si quieres terminar el juego: '))\n",
        "\n",
        "def seleccion_palabra(respuesta):\n",
        "  if respuesta == 1:\n",
        "    print('Seleccionando palabra aleatoria')\n",
        "    palabra_secreta = palabras[random.randint(0,len(palabras))]\n",
        "  else:\n",
        "    print('Juego terminado')\n",
        "  return palabra_secreta\n",
        "\n",
        "palabra_secreta = seleccion_palabra(respuesta)\n",
        "longitud = len(palabra_secreta)\n",
        "\n",
        "print(f'La palabra secreta es {palabra_secreta} y la longitud es de {longitud}')"
      ],
      "metadata": {
        "colab": {
          "base_uri": "https://localhost:8080/"
        },
        "id": "DzhdDq-lfs1_",
        "outputId": "11aa90f2-df95-44c3-cdd4-5d5332406f3a"
      },
      "execution_count": null,
      "outputs": [
        {
          "output_type": "stream",
          "name": "stdout",
          "text": [
            "presiona 1 para iniciar un nuevo juego, presiona 2 si quieres terminar el juego: 1\n",
            "Seleccionando palabra aleatoria\n",
            "La palabra secreta es ordenador y la longitud es de 9\n"
          ]
        }
      ]
    },
    {
      "cell_type": "code",
      "source": [
        "letras = list(palabra_secreta)\n",
        "print(letras)"
      ],
      "metadata": {
        "colab": {
          "base_uri": "https://localhost:8080/"
        },
        "id": "081EHvo1lp1P",
        "outputId": "12a50676-bb44-43d8-b488-6e8ddfb7a92f"
      },
      "execution_count": null,
      "outputs": [
        {
          "output_type": "stream",
          "name": "stdout",
          "text": [
            "['o', 'r', 'd', 'e', 'n', 'a', 'd', 'o', 'r']\n"
          ]
        }
      ]
    },
    {
      "cell_type": "markdown",
      "source": [],
      "metadata": {
        "id": "bpupU5bMk4kt"
      }
    },
    {
      "cell_type": "code",
      "source": [
        "intento = input('Ingresa la primer letra: ')\n",
        "vidas = 5\n",
        "while"
      ],
      "metadata": {
        "id": "y9V_z5iGhsGh",
        "colab": {
          "base_uri": "https://localhost:8080/",
          "height": 106
        },
        "outputId": "d7b54a64-025b-43ff-c795-2c1a1dff4ffa"
      },
      "execution_count": null,
      "outputs": [
        {
          "output_type": "error",
          "ename": "SyntaxError",
          "evalue": "invalid syntax (ipython-input-451106745.py, line 3)",
          "traceback": [
            "\u001b[0;36m  File \u001b[0;32m\"/tmp/ipython-input-451106745.py\"\u001b[0;36m, line \u001b[0;32m3\u001b[0m\n\u001b[0;31m    while\u001b[0m\n\u001b[0m         ^\u001b[0m\n\u001b[0;31mSyntaxError\u001b[0m\u001b[0;31m:\u001b[0m invalid syntax\n"
          ]
        }
      ]
    }
  ]
}